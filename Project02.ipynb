{
 "cells": [
  {
   "cell_type": "code",
   "execution_count": 46,
   "id": "96a3b80e",
   "metadata": {},
   "outputs": [
    {
     "data": {
      "text/plain": [
       "'/home/nightfury/miniconda3/envs/min_ds-env/bin/python'"
      ]
     },
     "execution_count": 46,
     "metadata": {},
     "output_type": "execute_result"
    }
   ],
   "source": [
    "import sys\n",
    "sys.executable"
   ]
  },
  {
   "cell_type": "markdown",
   "id": "633a031f",
   "metadata": {},
   "source": [
    "## Import"
   ]
  },
  {
   "cell_type": "code",
   "execution_count": 47,
   "id": "e2702074",
   "metadata": {},
   "outputs": [],
   "source": [
    "import matplotlib.pyplot as plt\n",
    "import seaborn as sns\n",
    "import numpy as np\n",
    "import pandas as pd\n",
    "import datetime"
   ]
  },
  {
   "cell_type": "markdown",
   "id": "29c39271",
   "metadata": {},
   "source": [
    "## Thu thập dữ liệu"
   ]
  },
  {
   "cell_type": "markdown",
   "id": "0e29d09d",
   "metadata": {},
   "source": [
    "Thực hành các bước phân tích dữ liệu từ bộ dữ liệu Soundcloud thu thập được trong đồ án 01"
   ]
  },
  {
   "cell_type": "markdown",
   "id": "97bd3a3b",
   "metadata": {},
   "source": [
    "Các bộ dữ liệu được lấy API từ đồ án 01. Các file được mô tả như sau."
   ]
  },
  {
   "cell_type": "markdown",
   "id": "daefd5e3",
   "metadata": {},
   "source": [
    "#### Thông tin của playlist:\n",
    "- playlist_link: Đường dẫn của playlist\n",
    "- playlist_title: tên playlist\n",
    "- playlist_genre: thể loại của playlist\n",
    "- playlist_likesCount: số lượt thích của playlist\n",
    "- playlist_repostsCount: số lượt repost của playlist\n",
    "- playlist_createdDate: ngày tạo playlist\n",
    "- playlist_duration: thời gian chạy playlist (đơn vị ms)\n",
    "- playlist_trackCount: số lượng track của playlist\n",
    "- playlist_Id: ID của playlist\n",
    "- playlist_username: tên user của playlist\n",
    "- playlist_userId: ID user của playlist"
   ]
  },
  {
   "cell_type": "markdown",
   "id": "f891ed10",
   "metadata": {},
   "source": [
    "#### Thông tin của user:\n",
    "- user_link: đường dẫn của user              \n",
    "- user_name: tên user\n",
    "- user_createdDate: ngày tạo tài khoản của user\n",
    "- user_followersCount: số lượt follow của user\n",
    "- user_playlistCount: số playlist user đã tạo\n",
    "- user_trackCount: số track user đã tạo\n",
    "- user_likesCount: số lượt thích của user\n",
    "- user_followingsCount: số người user follow\n",
    "- user_Id: ID của user\n"
   ]
  },
  {
   "cell_type": "markdown",
   "id": "14e7ff88",
   "metadata": {},
   "source": [
    "#### Thông tin của track:\n",
    "- track_link: đường dẫn của track\n",
    "- track_title: tên track\n",
    "- track_createdDate: ngày tạo track\n",
    "- track_genre: thể loại của track\n",
    "- track_playbackCount: số lượt nghe của track\n",
    "- track_Id: ID của track\n",
    "- track_likesCount: số lượt thích của track\n",
    "- track_repostsCount: số lượt repost của track\n",
    "- track_userId: ID user của track\n",
    "- track_downloadCount: số lượt tải của track\n",
    "- track_playlistlink: đường dẫn playlist mà track thuộc về\n",
    "- track_duration: thời gian chạy track (đơn vị ms)"
   ]
  },
  {
   "cell_type": "markdown",
   "id": "d8e6beb1",
   "metadata": {},
   "source": [
    "## Dự đoán"
   ]
  },
  {
   "cell_type": "markdown",
   "id": "cd545776",
   "metadata": {},
   "source": [
    "Câu hỏi liên quan đến playlist\n",
    "- Thể loại nào có nhiều playlist (hay số lượng playlist có đồng đều thể loại)\n",
    "- Thể loại nào có số lượt thích cao nhất (Liệu có phải nhạc indie?)\n",
    "- Playlist có nhiều lượt thích thì số lượt repost cũng sẽ cao?\n",
    "- Một playlist có số lượt track cao tương ướng số thời gian chạy (duration sẽ cao?)\n",
    "- Số lượng track của các playlist có đồng đều?\n",
    "- Số lượt thích cao tương đương với số track nhiều?\n",
    "- Số lượt thích cao tương đương với ngày tạo cũ (old) ?\n",
    "- Liệu một playlist được tạo bởi một user thì có ít nhất một bài hát do user đó tạo? (sáng tác)\n",
    "- Thể loại có ảnh hưởng thế nào đến số lượt thích? (hay số lượt repost or duration)\n",
    "- Tên của playlist có ảnh hưởng đến số lượt thích không? (theo trend hay gì đó)?"
   ]
  },
  {
   "cell_type": "markdown",
   "id": "3292c1da",
   "metadata": {},
   "source": [
    "Câu hỏi liên quan đến user:\n",
    "- Số lượt follow có tương ứng với số playlist đã tạo?\n",
    "- Liệu một user có nhiều follow thì sẽ follow nhiều người ?\n",
    "- Số track user tạo có tương ứng với số playlist mà người đó tạo ra?\n",
    "- Một user có số follow cao thì tương đương với số lượt thích cao?\n",
    "- Tên user có gì đặc biệt (nhất là với user có follow cao)\n",
    "- Có phải một user có số playlist và track cao thì số lượt thích cũng sẽ cao?\n",
    "- Một người dùng lâu năm có tương đương với việc lượt yêu thích cao?\n",
    "- User được yêu thích nhất"
   ]
  },
  {
   "cell_type": "markdown",
   "id": "6799a570",
   "metadata": {},
   "source": [
    "Câu hỏi liên quan đến track:\n",
    "- Thể loại nào là phổ biến?\n",
    "- Thể loại nào có số lượt nghe cao nhất?\n",
    "- Ngày tạo càng cũ thì số lượt nghe càng nhiều?\n",
    "- Số lượt nghe càng cao tương đương với số lượt thích càng cao?\n",
    "- Số lượt thích càng cao tương đương số lượt tải càng cao?\n",
    "- Số lượt nghe càng cao tương đương số lượt tải càng cao?\n",
    "- Track có thời gian chạy ít thì số lượt nghe càng nhiều?\n",
    "- Số lượt thích càng cao thì số lượt repost càng cao?\n",
    "- Số lượt nghe càng cao thì số lượt repost càng cao?\n",
    "- Tên của track có gì đặc biệt không?(các track có số lượt nghe nhiều có phải đặt theo trend?, tên ngắn, ...)"
   ]
  },
  {
   "cell_type": "markdown",
   "id": "ea6a9f22",
   "metadata": {},
   "source": [
    "Câu hỏi mối quan hệ Playlist-User:\n",
    "- Một user có nhiều follow thì có nhiều playlist có nhiều lượt thích or repost?\n",
    "- Một user chỉ tạo một playlist thể loại?\n",
    "- User có nhiều lượt thích thì các playlist đều có nhiều lượt thích?\n",
    "- Số lượng track đã tạo của user có đồng đều với số track của playlist\n",
    "- Một playlist có nhiều lượt thích or repost thì tương đương user đó nổi nhiều follow or thích?"
   ]
  },
  {
   "cell_type": "markdown",
   "id": "168897fe",
   "metadata": {},
   "source": [
    "Câu hỏi mối quan hệ Playlist-Track:\n",
    "- Một playlist có thể loại A thì tất cả track trong đó đều cùng thể loại A?\n",
    "- Một playlist có số lượt thích or repost cao thì tương đương với track có số lượt nghe cao?\n",
    "- Có phải một playlist thì tất cả các track đều cùng một user tạo hay user của playlist có trùng với user của track?\n",
    "- Một track trong playlist này có nằm trong playlist khác không?\n",
    "- Thời gian chạy của playlist có đúng bằng thời gian chạy của các track cộng lại?"
   ]
  },
  {
   "cell_type": "markdown",
   "id": "ea14ddd0",
   "metadata": {},
   "source": [
    "## Danh sách kiểm tra phân tích dữ liệu\n",
    "- Kiểm tra kiểu dữ liệu đã phù hợp với mỗi thuốc tính.\n",
    "- Kiểm tra các giá trị null và các giá trị lặp\n",
    "- Kiểm tra các giá trị ngoại lệ\n",
    "- Kiểm tra các mối quan hệ đơn biến và các mối tương quan đa biến"
   ]
  },
  {
   "cell_type": "markdown",
   "id": "7cbc78a7",
   "metadata": {},
   "source": [
    "## Trả lời những câu hỏi về bộ dữ liệu\n",
    "1. Bạn đã xác định số liệu trước khi bắt đầu?\n",
    "2. Bạn đã hiểu ngữ cảnh cho câu hỏi và ứng dụng?\n",
    "3. Bạn đã xem xét liệu câu hỏi có thể được trả lời với dữ liệu có sẵn không?\n"
   ]
  },
  {
   "cell_type": "markdown",
   "id": "d215a805",
   "metadata": {},
   "source": [
    "## Khám phá dữ liệu"
   ]
  },
  {
   "cell_type": "markdown",
   "id": "25d4b8f0",
   "metadata": {},
   "source": [
    "### Đọc dữ liệu từ file"
   ]
  },
  {
   "cell_type": "markdown",
   "id": "83345d3e",
   "metadata": {},
   "source": [
    "Các file được lưu trong thư mục API. Gồm có playlist.csv, user.csv, track.csv"
   ]
  },
  {
   "cell_type": "code",
   "execution_count": 48,
   "id": "97101e44",
   "metadata": {},
   "outputs": [
    {
     "data": {
      "text/html": [
       "<div>\n",
       "<style scoped>\n",
       "    .dataframe tbody tr th:only-of-type {\n",
       "        vertical-align: middle;\n",
       "    }\n",
       "\n",
       "    .dataframe tbody tr th {\n",
       "        vertical-align: top;\n",
       "    }\n",
       "\n",
       "    .dataframe thead th {\n",
       "        text-align: right;\n",
       "    }\n",
       "</style>\n",
       "<table border=\"1\" class=\"dataframe\">\n",
       "  <thead>\n",
       "    <tr style=\"text-align: right;\">\n",
       "      <th></th>\n",
       "      <th>Playlist Link</th>\n",
       "      <th>Title</th>\n",
       "      <th>Genre</th>\n",
       "      <th>Likes Count</th>\n",
       "      <th>Reposts Count</th>\n",
       "      <th>Created Date</th>\n",
       "      <th>Duration</th>\n",
       "      <th>Track Count</th>\n",
       "      <th>ID</th>\n",
       "      <th>User Name</th>\n",
       "      <th>User ID</th>\n",
       "      <th>Tracks</th>\n",
       "    </tr>\n",
       "  </thead>\n",
       "  <tbody>\n",
       "    <tr>\n",
       "      <th>0</th>\n",
       "      <td>https://soundcloud.com/muhammad-muklis-7003212...</td>\n",
       "      <td>Top 50: All music genres</td>\n",
       "      <td>NaN</td>\n",
       "      <td>290</td>\n",
       "      <td>17</td>\n",
       "      <td>2018-12-07T06:55:17Z</td>\n",
       "      <td>8513501</td>\n",
       "      <td>26</td>\n",
       "      <td>659129484</td>\n",
       "      <td>muhammadmuklis@gmail.co.id</td>\n",
       "      <td>544546047</td>\n",
       "      <td>528533214;533391846;435118860;528492738;480040791</td>\n",
       "    </tr>\n",
       "    <tr>\n",
       "      <th>1</th>\n",
       "      <td>https://soundcloud.com/yevhen-hrushko/sets/all...</td>\n",
       "      <td>All Music</td>\n",
       "      <td>NaN</td>\n",
       "      <td>1</td>\n",
       "      <td>0</td>\n",
       "      <td>2020-10-06T23:04:03Z</td>\n",
       "      <td>112031795</td>\n",
       "      <td>471</td>\n",
       "      <td>1141124959</td>\n",
       "      <td>Yevhen Hrushko</td>\n",
       "      <td>890771602</td>\n",
       "      <td>858368242;726587980;771730309;617602353;854354230</td>\n",
       "    </tr>\n",
       "    <tr>\n",
       "      <th>2</th>\n",
       "      <td>https://soundcloud.com/user951373027/sets/all-...</td>\n",
       "      <td>all music</td>\n",
       "      <td>NaN</td>\n",
       "      <td>5</td>\n",
       "      <td>3</td>\n",
       "      <td>2015-03-31T02:10:47Z</td>\n",
       "      <td>281559523</td>\n",
       "      <td>343</td>\n",
       "      <td>94207274</td>\n",
       "      <td>user951373027</td>\n",
       "      <td>138802783</td>\n",
       "      <td>26064386;28864776;78325622;118151839;169661980</td>\n",
       "    </tr>\n",
       "    <tr>\n",
       "      <th>3</th>\n",
       "      <td>https://soundcloud.com/ro-vee-1/sets/all-music</td>\n",
       "      <td>All music</td>\n",
       "      <td>NaN</td>\n",
       "      <td>2</td>\n",
       "      <td>0</td>\n",
       "      <td>2016-10-28T03:50:10Z</td>\n",
       "      <td>214222175</td>\n",
       "      <td>478</td>\n",
       "      <td>270985401</td>\n",
       "      <td>Rovee801</td>\n",
       "      <td>49566271</td>\n",
       "      <td>51954776;103961182;66470829;270727415;264940362</td>\n",
       "    </tr>\n",
       "    <tr>\n",
       "      <th>4</th>\n",
       "      <td>https://soundcloud.com/dollarboyz/sets/all-music</td>\n",
       "      <td>ALL MUSIC</td>\n",
       "      <td>DOLLARBOYZ</td>\n",
       "      <td>2133</td>\n",
       "      <td>344</td>\n",
       "      <td>2015-06-25T15:29:39Z</td>\n",
       "      <td>34626107</td>\n",
       "      <td>395</td>\n",
       "      <td>119627636</td>\n",
       "      <td>DOLLARBOYZ</td>\n",
       "      <td>19436728</td>\n",
       "      <td>342069602;340369458;335396771;334764746;334068756</td>\n",
       "    </tr>\n",
       "  </tbody>\n",
       "</table>\n",
       "</div>"
      ],
      "text/plain": [
       "                                       Playlist Link  \\\n",
       "0  https://soundcloud.com/muhammad-muklis-7003212...   \n",
       "1  https://soundcloud.com/yevhen-hrushko/sets/all...   \n",
       "2  https://soundcloud.com/user951373027/sets/all-...   \n",
       "3     https://soundcloud.com/ro-vee-1/sets/all-music   \n",
       "4   https://soundcloud.com/dollarboyz/sets/all-music   \n",
       "\n",
       "                      Title       Genre  Likes Count  Reposts Count  \\\n",
       "0  Top 50: All music genres         NaN          290             17   \n",
       "1                 All Music         NaN            1              0   \n",
       "2                 all music         NaN            5              3   \n",
       "3                 All music         NaN            2              0   \n",
       "4                 ALL MUSIC  DOLLARBOYZ         2133            344   \n",
       "\n",
       "           Created Date   Duration  Track Count          ID  \\\n",
       "0  2018-12-07T06:55:17Z    8513501           26   659129484   \n",
       "1  2020-10-06T23:04:03Z  112031795          471  1141124959   \n",
       "2  2015-03-31T02:10:47Z  281559523          343    94207274   \n",
       "3  2016-10-28T03:50:10Z  214222175          478   270985401   \n",
       "4  2015-06-25T15:29:39Z   34626107          395   119627636   \n",
       "\n",
       "                    User Name    User ID  \\\n",
       "0  muhammadmuklis@gmail.co.id  544546047   \n",
       "1              Yevhen Hrushko  890771602   \n",
       "2               user951373027  138802783   \n",
       "3                    Rovee801   49566271   \n",
       "4                  DOLLARBOYZ   19436728   \n",
       "\n",
       "                                              Tracks  \n",
       "0  528533214;533391846;435118860;528492738;480040791  \n",
       "1  858368242;726587980;771730309;617602353;854354230  \n",
       "2     26064386;28864776;78325622;118151839;169661980  \n",
       "3    51954776;103961182;66470829;270727415;264940362  \n",
       "4  342069602;340369458;335396771;334764746;334068756  "
      ]
     },
     "execution_count": 48,
     "metadata": {},
     "output_type": "execute_result"
    }
   ],
   "source": [
    "playlist_df = pd.read_csv('API/playlist.csv', index_col=0)\n",
    "playlist_df.head()"
   ]
  },
  {
   "cell_type": "code",
   "execution_count": 49,
   "id": "78a01524",
   "metadata": {},
   "outputs": [
    {
     "data": {
      "text/html": [
       "<div>\n",
       "<style scoped>\n",
       "    .dataframe tbody tr th:only-of-type {\n",
       "        vertical-align: middle;\n",
       "    }\n",
       "\n",
       "    .dataframe tbody tr th {\n",
       "        vertical-align: top;\n",
       "    }\n",
       "\n",
       "    .dataframe thead th {\n",
       "        text-align: right;\n",
       "    }\n",
       "</style>\n",
       "<table border=\"1\" class=\"dataframe\">\n",
       "  <thead>\n",
       "    <tr style=\"text-align: right;\">\n",
       "      <th></th>\n",
       "      <th>User Link</th>\n",
       "      <th>Name</th>\n",
       "      <th>Created Date</th>\n",
       "      <th>Followers Count</th>\n",
       "      <th>Playlist Count</th>\n",
       "      <th>Track Count</th>\n",
       "      <th>Likes Count</th>\n",
       "      <th>Followings Count</th>\n",
       "      <th>User ID</th>\n",
       "      <th>Badges</th>\n",
       "      <th>Verified</th>\n",
       "      <th>City</th>\n",
       "      <th>CountryCode</th>\n",
       "    </tr>\n",
       "  </thead>\n",
       "  <tbody>\n",
       "    <tr>\n",
       "      <th>0</th>\n",
       "      <td>https://soundcloud.com/l2share55</td>\n",
       "      <td>L2Share♫55</td>\n",
       "      <td>2017-05-27T04:02:32Z</td>\n",
       "      <td>17993</td>\n",
       "      <td>0</td>\n",
       "      <td>35</td>\n",
       "      <td>0</td>\n",
       "      <td>10</td>\n",
       "      <td>309764493</td>\n",
       "      <td>No</td>\n",
       "      <td>False</td>\n",
       "      <td>NaN</td>\n",
       "      <td>NaN</td>\n",
       "    </tr>\n",
       "    <tr>\n",
       "      <th>1</th>\n",
       "      <td>https://soundcloud.com/ali-mustofa-697077301</td>\n",
       "      <td>Ali Mustofa</td>\n",
       "      <td>2017-03-22T00:13:27Z</td>\n",
       "      <td>310</td>\n",
       "      <td>14</td>\n",
       "      <td>12</td>\n",
       "      <td>568</td>\n",
       "      <td>83</td>\n",
       "      <td>296809515</td>\n",
       "      <td>No</td>\n",
       "      <td>False</td>\n",
       "      <td>NaN</td>\n",
       "      <td>NaN</td>\n",
       "    </tr>\n",
       "    <tr>\n",
       "      <th>2</th>\n",
       "      <td>https://soundcloud.com/verdo-yicam</td>\n",
       "      <td>DROPS VISUAL</td>\n",
       "      <td>2018-02-23T04:11:19Z</td>\n",
       "      <td>930</td>\n",
       "      <td>0</td>\n",
       "      <td>12</td>\n",
       "      <td>55</td>\n",
       "      <td>1</td>\n",
       "      <td>404520300</td>\n",
       "      <td>No</td>\n",
       "      <td>False</td>\n",
       "      <td>NaN</td>\n",
       "      <td>NaN</td>\n",
       "    </tr>\n",
       "    <tr>\n",
       "      <th>3</th>\n",
       "      <td>https://soundcloud.com/remix-jackrmx</td>\n",
       "      <td>DJ JackRMX</td>\n",
       "      <td>2018-04-26T12:11:06Z</td>\n",
       "      <td>1080</td>\n",
       "      <td>0</td>\n",
       "      <td>27</td>\n",
       "      <td>42</td>\n",
       "      <td>8</td>\n",
       "      <td>439229406</td>\n",
       "      <td>No</td>\n",
       "      <td>False</td>\n",
       "      <td>Trap Nation</td>\n",
       "      <td>ID</td>\n",
       "    </tr>\n",
       "    <tr>\n",
       "      <th>4</th>\n",
       "      <td>https://soundcloud.com/fdj-mboll</td>\n",
       "      <td>Fdj Mboll V.2</td>\n",
       "      <td>2017-10-20T05:15:48Z</td>\n",
       "      <td>139</td>\n",
       "      <td>0</td>\n",
       "      <td>15</td>\n",
       "      <td>16</td>\n",
       "      <td>6</td>\n",
       "      <td>338985417</td>\n",
       "      <td>No</td>\n",
       "      <td>False</td>\n",
       "      <td>NaN</td>\n",
       "      <td>NaN</td>\n",
       "    </tr>\n",
       "  </tbody>\n",
       "</table>\n",
       "</div>"
      ],
      "text/plain": [
       "                                      User Link           Name  \\\n",
       "0              https://soundcloud.com/l2share55     L2Share♫55   \n",
       "1  https://soundcloud.com/ali-mustofa-697077301    Ali Mustofa   \n",
       "2            https://soundcloud.com/verdo-yicam   DROPS VISUAL   \n",
       "3          https://soundcloud.com/remix-jackrmx     DJ JackRMX   \n",
       "4              https://soundcloud.com/fdj-mboll  Fdj Mboll V.2   \n",
       "\n",
       "           Created Date  Followers Count  Playlist Count  Track Count  \\\n",
       "0  2017-05-27T04:02:32Z            17993               0           35   \n",
       "1  2017-03-22T00:13:27Z              310              14           12   \n",
       "2  2018-02-23T04:11:19Z              930               0           12   \n",
       "3  2018-04-26T12:11:06Z             1080               0           27   \n",
       "4  2017-10-20T05:15:48Z              139               0           15   \n",
       "\n",
       "   Likes Count  Followings Count    User ID Badges  Verified         City  \\\n",
       "0            0                10  309764493     No     False          NaN   \n",
       "1          568                83  296809515     No     False          NaN   \n",
       "2           55                 1  404520300     No     False          NaN   \n",
       "3           42                 8  439229406     No     False  Trap Nation   \n",
       "4           16                 6  338985417     No     False          NaN   \n",
       "\n",
       "  CountryCode  \n",
       "0         NaN  \n",
       "1         NaN  \n",
       "2         NaN  \n",
       "3          ID  \n",
       "4         NaN  "
      ]
     },
     "execution_count": 49,
     "metadata": {},
     "output_type": "execute_result"
    }
   ],
   "source": [
    "user_df = pd.read_csv('API/user.csv', index_col=0)\n",
    "user_df.head()"
   ]
  },
  {
   "cell_type": "code",
   "execution_count": 50,
   "id": "7ccdb382",
   "metadata": {},
   "outputs": [
    {
     "data": {
      "text/html": [
       "<div>\n",
       "<style scoped>\n",
       "    .dataframe tbody tr th:only-of-type {\n",
       "        vertical-align: middle;\n",
       "    }\n",
       "\n",
       "    .dataframe tbody tr th {\n",
       "        vertical-align: top;\n",
       "    }\n",
       "\n",
       "    .dataframe thead th {\n",
       "        text-align: right;\n",
       "    }\n",
       "</style>\n",
       "<table border=\"1\" class=\"dataframe\">\n",
       "  <thead>\n",
       "    <tr style=\"text-align: right;\">\n",
       "      <th></th>\n",
       "      <th>Track Link</th>\n",
       "      <th>Title</th>\n",
       "      <th>Created Date</th>\n",
       "      <th>Genre</th>\n",
       "      <th>Playback Count</th>\n",
       "      <th>ID</th>\n",
       "      <th>Likes Count</th>\n",
       "      <th>Reposts Count</th>\n",
       "      <th>User ID</th>\n",
       "      <th>Downdload Count</th>\n",
       "      <th>Playlist Link</th>\n",
       "      <th>Duration</th>\n",
       "    </tr>\n",
       "  </thead>\n",
       "  <tbody>\n",
       "    <tr>\n",
       "      <th>0</th>\n",
       "      <td>https://soundcloud.com/l2share55/jennie-solo-b...</td>\n",
       "      <td>JENNIE – SOLO</td>\n",
       "      <td>2018-11-12T09:30:15Z</td>\n",
       "      <td>NaN</td>\n",
       "      <td>20915487.0</td>\n",
       "      <td>528533214</td>\n",
       "      <td>293482.0</td>\n",
       "      <td>6330</td>\n",
       "      <td>309764493</td>\n",
       "      <td>0.0</td>\n",
       "      <td>https://soundcloud.com/muhammad-muklis-7003212...</td>\n",
       "      <td>160067</td>\n",
       "    </tr>\n",
       "    <tr>\n",
       "      <th>1</th>\n",
       "      <td>https://soundcloud.com/ali-mustofa-697077301/s...</td>\n",
       "      <td>Smvll Adek Berjilbab Ungu</td>\n",
       "      <td>2018-11-21T14:19:37Z</td>\n",
       "      <td>NaN</td>\n",
       "      <td>4473674.0</td>\n",
       "      <td>533391846</td>\n",
       "      <td>63403.0</td>\n",
       "      <td>1445</td>\n",
       "      <td>296809515</td>\n",
       "      <td>0.0</td>\n",
       "      <td>https://soundcloud.com/muhammad-muklis-7003212...</td>\n",
       "      <td>198051</td>\n",
       "    </tr>\n",
       "    <tr>\n",
       "      <th>2</th>\n",
       "      <td>https://soundcloud.com/verdo-yicam/guyon-waton...</td>\n",
       "      <td>Guyon Waton - Korban Janji (New single)</td>\n",
       "      <td>2018-04-25T19:32:55Z</td>\n",
       "      <td>NaN</td>\n",
       "      <td>14301201.0</td>\n",
       "      <td>435118860</td>\n",
       "      <td>163918.0</td>\n",
       "      <td>2901</td>\n",
       "      <td>404520300</td>\n",
       "      <td>0.0</td>\n",
       "      <td>https://soundcloud.com/muhammad-muklis-7003212...</td>\n",
       "      <td>293303</td>\n",
       "    </tr>\n",
       "    <tr>\n",
       "      <th>3</th>\n",
       "      <td>https://soundcloud.com/remix-jackrmx/dj-enak-s...</td>\n",
       "      <td>Dj Enak Susunya Mama Remix Tik Tok 2018 $REMIX...</td>\n",
       "      <td>2018-11-12T06:28:46Z</td>\n",
       "      <td>Trap</td>\n",
       "      <td>2191521.0</td>\n",
       "      <td>528492738</td>\n",
       "      <td>42306.0</td>\n",
       "      <td>1360</td>\n",
       "      <td>439229406</td>\n",
       "      <td>0.0</td>\n",
       "      <td>https://soundcloud.com/muhammad-muklis-7003212...</td>\n",
       "      <td>867477</td>\n",
       "    </tr>\n",
       "    <tr>\n",
       "      <th>4</th>\n",
       "      <td>https://soundcloud.com/fdj-mboll/enak-susunya-...</td>\n",
       "      <td>Enak Susunya Mama Mama :D From Mboll Richardo :*</td>\n",
       "      <td>2018-08-02T06:50:13Z</td>\n",
       "      <td>NaN</td>\n",
       "      <td>1596162.0</td>\n",
       "      <td>480040791</td>\n",
       "      <td>23708.0</td>\n",
       "      <td>545</td>\n",
       "      <td>338985417</td>\n",
       "      <td>0.0</td>\n",
       "      <td>https://soundcloud.com/muhammad-muklis-7003212...</td>\n",
       "      <td>292415</td>\n",
       "    </tr>\n",
       "  </tbody>\n",
       "</table>\n",
       "</div>"
      ],
      "text/plain": [
       "                                          Track Link  \\\n",
       "0  https://soundcloud.com/l2share55/jennie-solo-b...   \n",
       "1  https://soundcloud.com/ali-mustofa-697077301/s...   \n",
       "2  https://soundcloud.com/verdo-yicam/guyon-waton...   \n",
       "3  https://soundcloud.com/remix-jackrmx/dj-enak-s...   \n",
       "4  https://soundcloud.com/fdj-mboll/enak-susunya-...   \n",
       "\n",
       "                                               Title          Created Date  \\\n",
       "0                                      JENNIE – SOLO  2018-11-12T09:30:15Z   \n",
       "1                          Smvll Adek Berjilbab Ungu  2018-11-21T14:19:37Z   \n",
       "2            Guyon Waton - Korban Janji (New single)  2018-04-25T19:32:55Z   \n",
       "3  Dj Enak Susunya Mama Remix Tik Tok 2018 $REMIX...  2018-11-12T06:28:46Z   \n",
       "4   Enak Susunya Mama Mama :D From Mboll Richardo :*  2018-08-02T06:50:13Z   \n",
       "\n",
       "  Genre  Playback Count         ID  Likes Count  Reposts Count    User ID  \\\n",
       "0   NaN      20915487.0  528533214     293482.0           6330  309764493   \n",
       "1   NaN       4473674.0  533391846      63403.0           1445  296809515   \n",
       "2   NaN      14301201.0  435118860     163918.0           2901  404520300   \n",
       "3  Trap       2191521.0  528492738      42306.0           1360  439229406   \n",
       "4   NaN       1596162.0  480040791      23708.0            545  338985417   \n",
       "\n",
       "   Downdload Count                                      Playlist Link  \\\n",
       "0              0.0  https://soundcloud.com/muhammad-muklis-7003212...   \n",
       "1              0.0  https://soundcloud.com/muhammad-muklis-7003212...   \n",
       "2              0.0  https://soundcloud.com/muhammad-muklis-7003212...   \n",
       "3              0.0  https://soundcloud.com/muhammad-muklis-7003212...   \n",
       "4              0.0  https://soundcloud.com/muhammad-muklis-7003212...   \n",
       "\n",
       "   Duration  \n",
       "0    160067  \n",
       "1    198051  \n",
       "2    293303  \n",
       "3    867477  \n",
       "4    292415  "
      ]
     },
     "execution_count": 50,
     "metadata": {},
     "output_type": "execute_result"
    }
   ],
   "source": [
    "track_df = pd.read_csv('API/track.csv', index_col=0)\n",
    "track_df.head()"
   ]
  },
  {
   "cell_type": "markdown",
   "id": "f6a80424",
   "metadata": {},
   "source": [
    "### Dữ liệu có bao nhiêu dòng và bao nhiêu cột?"
   ]
  },
  {
   "cell_type": "code",
   "execution_count": 51,
   "id": "e28a114b",
   "metadata": {},
   "outputs": [
    {
     "data": {
      "text/plain": [
       "(1021, 12)"
      ]
     },
     "execution_count": 51,
     "metadata": {},
     "output_type": "execute_result"
    }
   ],
   "source": [
    "playlist_df.shape"
   ]
  },
  {
   "cell_type": "code",
   "execution_count": 52,
   "id": "e66f8eb7",
   "metadata": {},
   "outputs": [
    {
     "data": {
      "text/plain": [
       "(4564, 12)"
      ]
     },
     "execution_count": 52,
     "metadata": {},
     "output_type": "execute_result"
    }
   ],
   "source": [
    "track_df.shape"
   ]
  },
  {
   "cell_type": "code",
   "execution_count": 53,
   "id": "18ecfe2f",
   "metadata": {},
   "outputs": [
    {
     "data": {
      "text/plain": [
       "(3019, 13)"
      ]
     },
     "execution_count": 53,
     "metadata": {},
     "output_type": "execute_result"
    }
   ],
   "source": [
    "user_df.shape"
   ]
  },
  {
   "cell_type": "markdown",
   "id": "9a100b1f",
   "metadata": {},
   "source": [
    "### Dữ liệu có các dòng bị lặp không?"
   ]
  },
  {
   "cell_type": "code",
   "execution_count": 54,
   "id": "8ad3e756",
   "metadata": {},
   "outputs": [
    {
     "data": {
      "text/plain": [
       "0"
      ]
     },
     "execution_count": 54,
     "metadata": {},
     "output_type": "execute_result"
    }
   ],
   "source": [
    "len(playlist_df.index) - len(playlist_df.index.drop_duplicates())"
   ]
  },
  {
   "cell_type": "code",
   "execution_count": 55,
   "id": "bd0e493f",
   "metadata": {},
   "outputs": [
    {
     "data": {
      "text/plain": [
       "0"
      ]
     },
     "execution_count": 55,
     "metadata": {},
     "output_type": "execute_result"
    }
   ],
   "source": [
    "len(user_df.index) - len(user_df.index.drop_duplicates())"
   ]
  },
  {
   "cell_type": "code",
   "execution_count": 56,
   "id": "169bdd24",
   "metadata": {},
   "outputs": [
    {
     "data": {
      "text/plain": [
       "0"
      ]
     },
     "execution_count": 56,
     "metadata": {},
     "output_type": "execute_result"
    }
   ],
   "source": [
    "len(track_df.index) - len(track_df.index.drop_duplicates())"
   ]
  },
  {
   "cell_type": "markdown",
   "id": "ec93de9b",
   "metadata": {},
   "source": [
    "### Mỗi cột hiện đang có kiểu dữ liệu gì? Có cột nào có kiểu dữ liệu chưa phù hợp để có thể xử lý tiếp không?"
   ]
  },
  {
   "cell_type": "code",
   "execution_count": 57,
   "id": "9f74727b",
   "metadata": {},
   "outputs": [
    {
     "data": {
      "text/plain": [
       "Playlist Link    object\n",
       "Title            object\n",
       "Genre            object\n",
       "Likes Count       int64\n",
       "Reposts Count     int64\n",
       "Created Date     object\n",
       "Duration          int64\n",
       "Track Count       int64\n",
       "ID                int64\n",
       "User Name        object\n",
       "User ID           int64\n",
       "Tracks           object\n",
       "dtype: object"
      ]
     },
     "execution_count": 57,
     "metadata": {},
     "output_type": "execute_result"
    }
   ],
   "source": [
    "playlist_df.dtypes"
   ]
  },
  {
   "cell_type": "markdown",
   "id": "8d95fdae",
   "metadata": {},
   "source": [
    "Ta có thể thấy dữ liệu có vẻ khá đúng trừ cột 'Create Date' và cột 'Duration' vẫn đang ở dạng object do đó ta sẽ chuyển nó về dạng datetime. Tượng tự cho user và track"
   ]
  },
  {
   "cell_type": "code",
   "execution_count": 58,
   "id": "3ad4acb8",
   "metadata": {},
   "outputs": [],
   "source": [
    "playlist_df['Created Date'] = playlist_df['Created Date'].astype('datetime64[ns]')"
   ]
  },
  {
   "cell_type": "code",
   "execution_count": 59,
   "id": "374574a6",
   "metadata": {},
   "outputs": [
    {
     "data": {
      "text/plain": [
       "0         8513501\n",
       "1       112031795\n",
       "2       281559523\n",
       "3       214222175\n",
       "4        34626107\n",
       "          ...    \n",
       "1016     40543350\n",
       "1017     40811126\n",
       "1018     22426080\n",
       "1019     29446640\n",
       "1020     44027660\n",
       "Name: Duration, Length: 1021, dtype: int64"
      ]
     },
     "execution_count": 59,
     "metadata": {},
     "output_type": "execute_result"
    }
   ],
   "source": [
    "playlist_df['Duration']"
   ]
  },
  {
   "cell_type": "code",
   "execution_count": 60,
   "id": "3cbc5bb2",
   "metadata": {},
   "outputs": [
    {
     "data": {
      "text/plain": [
       "0      2018-12-07 06:55:17\n",
       "1      2020-10-06 23:04:03\n",
       "2      2015-03-31 02:10:47\n",
       "3      2016-10-28 03:50:10\n",
       "4      2015-06-25 15:29:39\n",
       "               ...        \n",
       "1016   2016-02-09 22:31:59\n",
       "1017   2015-10-26 05:45:36\n",
       "1018   2017-08-25 18:36:40\n",
       "1019   2021-08-20 22:16:45\n",
       "1020   2017-03-10 14:27:02\n",
       "Name: Created Date, Length: 1021, dtype: datetime64[ns]"
      ]
     },
     "execution_count": 60,
     "metadata": {},
     "output_type": "execute_result"
    }
   ],
   "source": [
    "playlist_df['Created Date']"
   ]
  },
  {
   "cell_type": "code",
   "execution_count": 61,
   "id": "d5794265",
   "metadata": {},
   "outputs": [
    {
     "data": {
      "text/plain": [
       "Track Link          object\n",
       "Title               object\n",
       "Created Date        object\n",
       "Genre               object\n",
       "Playback Count     float64\n",
       "ID                   int64\n",
       "Likes Count        float64\n",
       "Reposts Count        int64\n",
       "User ID              int64\n",
       "Downdload Count    float64\n",
       "Playlist Link       object\n",
       "Duration             int64\n",
       "dtype: object"
      ]
     },
     "execution_count": 61,
     "metadata": {},
     "output_type": "execute_result"
    }
   ],
   "source": [
    "track_df.dtypes"
   ]
  },
  {
   "cell_type": "code",
   "execution_count": 62,
   "id": "c52bc16b",
   "metadata": {},
   "outputs": [],
   "source": [
    "track_df['Created Date'] = track_df['Created Date'].astype('datetime64[ns]')"
   ]
  },
  {
   "cell_type": "markdown",
   "id": "27a71b79",
   "metadata": {},
   "source": [
    "## Quay lại bước khám phá dữ liệu"
   ]
  },
  {
   "cell_type": "markdown",
   "id": "482c70f2",
   "metadata": {},
   "source": [
    "### Với mỗi cột có kiểu dữ liệu dạng số, các giá trị được phân bố như thế nào? <br>\n",
    "Với các cột có kiểu dữ liệu số, ta sẽ tính:\n",
    "- Tỉ lệ % (từ 0 đến 100) các giá trị thiếu \n",
    "- Giá trị min\n",
    "- Giá trị lower quartile (phân vị 25)\n",
    "- Giá trị median (phân vị 50)\n",
    "- Giá trị upper quartile (phân vị 75)\n",
    "- Giá trị max"
   ]
  },
  {
   "cell_type": "code",
   "execution_count": 63,
   "id": "9b5b6dac",
   "metadata": {},
   "outputs": [],
   "source": [
    "def calculate_quartile(data):\n",
    "    nume_col_info_df = pd.DataFrame()\n",
    "    dont_touch = ['User ID', 'Playlist ID', 'Duration']\n",
    "    for col in data.keys():\n",
    "        if data[col].dtype in [np.int64, np.float64] and col not in dont_touch:\n",
    "            missing_percentage = round(data[col].isnull().sum() * 100 / len(data[col]), 1)\n",
    "            min_value = data[col].min()\n",
    "            lower_quartile = data[col].quantile(0.25)\n",
    "            median = data[col].median()\n",
    "            upper = data[col].quantile(0.75)\n",
    "            max_value = data[col].max()\n",
    "            row_line = pd.Series([missing_percentage, min_value, lower_quartile, median, upper, max_value], \n",
    "                                 index = ['missing_percentage', 'min', 'lower_quartile', 'median', 'upper_quartile', 'max'])\n",
    "            nume_col_info_df[col] = row_line\n",
    "    return nume_col_info_df"
   ]
  },
  {
   "cell_type": "code",
   "execution_count": 64,
   "id": "408c1ce9",
   "metadata": {},
   "outputs": [
    {
     "data": {
      "text/html": [
       "<div>\n",
       "<style scoped>\n",
       "    .dataframe tbody tr th:only-of-type {\n",
       "        vertical-align: middle;\n",
       "    }\n",
       "\n",
       "    .dataframe tbody tr th {\n",
       "        vertical-align: top;\n",
       "    }\n",
       "\n",
       "    .dataframe thead th {\n",
       "        text-align: right;\n",
       "    }\n",
       "</style>\n",
       "<table border=\"1\" class=\"dataframe\">\n",
       "  <thead>\n",
       "    <tr style=\"text-align: right;\">\n",
       "      <th></th>\n",
       "      <th>Likes Count</th>\n",
       "      <th>Reposts Count</th>\n",
       "      <th>Track Count</th>\n",
       "      <th>ID</th>\n",
       "    </tr>\n",
       "  </thead>\n",
       "  <tbody>\n",
       "    <tr>\n",
       "      <th>missing_percentage</th>\n",
       "      <td>0.0</td>\n",
       "      <td>0.0</td>\n",
       "      <td>0.0</td>\n",
       "      <td>0.000000e+00</td>\n",
       "    </tr>\n",
       "    <tr>\n",
       "      <th>min</th>\n",
       "      <td>0.0</td>\n",
       "      <td>0.0</td>\n",
       "      <td>0.0</td>\n",
       "      <td>9.696880e+05</td>\n",
       "    </tr>\n",
       "    <tr>\n",
       "      <th>lower_quartile</th>\n",
       "      <td>1.0</td>\n",
       "      <td>0.0</td>\n",
       "      <td>57.0</td>\n",
       "      <td>1.196276e+08</td>\n",
       "    </tr>\n",
       "    <tr>\n",
       "      <th>median</th>\n",
       "      <td>9.0</td>\n",
       "      <td>0.0</td>\n",
       "      <td>337.0</td>\n",
       "      <td>2.865766e+08</td>\n",
       "    </tr>\n",
       "    <tr>\n",
       "      <th>upper_quartile</th>\n",
       "      <td>49.0</td>\n",
       "      <td>4.0</td>\n",
       "      <td>457.0</td>\n",
       "      <td>7.193099e+08</td>\n",
       "    </tr>\n",
       "    <tr>\n",
       "      <th>max</th>\n",
       "      <td>284767.0</td>\n",
       "      <td>45233.0</td>\n",
       "      <td>500.0</td>\n",
       "      <td>1.361352e+09</td>\n",
       "    </tr>\n",
       "  </tbody>\n",
       "</table>\n",
       "</div>"
      ],
      "text/plain": [
       "                    Likes Count  Reposts Count  Track Count            ID\n",
       "missing_percentage          0.0            0.0          0.0  0.000000e+00\n",
       "min                         0.0            0.0          0.0  9.696880e+05\n",
       "lower_quartile              1.0            0.0         57.0  1.196276e+08\n",
       "median                      9.0            0.0        337.0  2.865766e+08\n",
       "upper_quartile             49.0            4.0        457.0  7.193099e+08\n",
       "max                    284767.0        45233.0        500.0  1.361352e+09"
      ]
     },
     "execution_count": 64,
     "metadata": {},
     "output_type": "execute_result"
    }
   ],
   "source": [
    "playlist_info_df = calculate_quartile(playlist_df)\n",
    "playlist_info_df"
   ]
  },
  {
   "cell_type": "code",
   "execution_count": 65,
   "id": "e29a4544",
   "metadata": {},
   "outputs": [
    {
     "data": {
      "text/html": [
       "<div>\n",
       "<style scoped>\n",
       "    .dataframe tbody tr th:only-of-type {\n",
       "        vertical-align: middle;\n",
       "    }\n",
       "\n",
       "    .dataframe tbody tr th {\n",
       "        vertical-align: top;\n",
       "    }\n",
       "\n",
       "    .dataframe thead th {\n",
       "        text-align: right;\n",
       "    }\n",
       "</style>\n",
       "<table border=\"1\" class=\"dataframe\">\n",
       "  <thead>\n",
       "    <tr style=\"text-align: right;\">\n",
       "      <th></th>\n",
       "      <th>Likes Count</th>\n",
       "      <th>Reposts Count</th>\n",
       "      <th>Track Count</th>\n",
       "      <th>ID</th>\n",
       "    </tr>\n",
       "  </thead>\n",
       "  <tbody>\n",
       "    <tr>\n",
       "      <th>missing_percentage</th>\n",
       "      <td>0.0</td>\n",
       "      <td>0.0</td>\n",
       "      <td>0.0</td>\n",
       "      <td>0.000000e+00</td>\n",
       "    </tr>\n",
       "    <tr>\n",
       "      <th>min</th>\n",
       "      <td>0.0</td>\n",
       "      <td>0.0</td>\n",
       "      <td>0.0</td>\n",
       "      <td>9.696880e+05</td>\n",
       "    </tr>\n",
       "    <tr>\n",
       "      <th>lower_quartile</th>\n",
       "      <td>1.0</td>\n",
       "      <td>0.0</td>\n",
       "      <td>57.0</td>\n",
       "      <td>1.196276e+08</td>\n",
       "    </tr>\n",
       "    <tr>\n",
       "      <th>median</th>\n",
       "      <td>9.0</td>\n",
       "      <td>0.0</td>\n",
       "      <td>337.0</td>\n",
       "      <td>2.865766e+08</td>\n",
       "    </tr>\n",
       "    <tr>\n",
       "      <th>upper_quartile</th>\n",
       "      <td>49.0</td>\n",
       "      <td>4.0</td>\n",
       "      <td>457.0</td>\n",
       "      <td>7.193099e+08</td>\n",
       "    </tr>\n",
       "    <tr>\n",
       "      <th>max</th>\n",
       "      <td>284767.0</td>\n",
       "      <td>45233.0</td>\n",
       "      <td>500.0</td>\n",
       "      <td>1.361352e+09</td>\n",
       "    </tr>\n",
       "  </tbody>\n",
       "</table>\n",
       "</div>"
      ],
      "text/plain": [
       "                    Likes Count  Reposts Count  Track Count            ID\n",
       "missing_percentage          0.0            0.0          0.0  0.000000e+00\n",
       "min                         0.0            0.0          0.0  9.696880e+05\n",
       "lower_quartile              1.0            0.0         57.0  1.196276e+08\n",
       "median                      9.0            0.0        337.0  2.865766e+08\n",
       "upper_quartile             49.0            4.0        457.0  7.193099e+08\n",
       "max                    284767.0        45233.0        500.0  1.361352e+09"
      ]
     },
     "execution_count": 65,
     "metadata": {},
     "output_type": "execute_result"
    }
   ],
   "source": [
    "track_info_df = calculate_quartile(playlist_df)\n",
    "track_info_df"
   ]
  },
  {
   "cell_type": "code",
   "execution_count": 66,
   "id": "7fad5bb1",
   "metadata": {},
   "outputs": [
    {
     "data": {
      "text/html": [
       "<div>\n",
       "<style scoped>\n",
       "    .dataframe tbody tr th:only-of-type {\n",
       "        vertical-align: middle;\n",
       "    }\n",
       "\n",
       "    .dataframe tbody tr th {\n",
       "        vertical-align: top;\n",
       "    }\n",
       "\n",
       "    .dataframe thead th {\n",
       "        text-align: right;\n",
       "    }\n",
       "</style>\n",
       "<table border=\"1\" class=\"dataframe\">\n",
       "  <thead>\n",
       "    <tr style=\"text-align: right;\">\n",
       "      <th></th>\n",
       "      <th>Followers Count</th>\n",
       "      <th>Playlist Count</th>\n",
       "      <th>Track Count</th>\n",
       "      <th>Likes Count</th>\n",
       "      <th>Followings Count</th>\n",
       "    </tr>\n",
       "  </thead>\n",
       "  <tbody>\n",
       "    <tr>\n",
       "      <th>missing_percentage</th>\n",
       "      <td>0.0</td>\n",
       "      <td>0.0</td>\n",
       "      <td>0.0</td>\n",
       "      <td>0.0</td>\n",
       "      <td>0.0</td>\n",
       "    </tr>\n",
       "    <tr>\n",
       "      <th>min</th>\n",
       "      <td>0.0</td>\n",
       "      <td>0.0</td>\n",
       "      <td>1.0</td>\n",
       "      <td>0.0</td>\n",
       "      <td>0.0</td>\n",
       "    </tr>\n",
       "    <tr>\n",
       "      <th>lower_quartile</th>\n",
       "      <td>480.5</td>\n",
       "      <td>0.0</td>\n",
       "      <td>12.0</td>\n",
       "      <td>1.0</td>\n",
       "      <td>1.0</td>\n",
       "    </tr>\n",
       "    <tr>\n",
       "      <th>median</th>\n",
       "      <td>5242.0</td>\n",
       "      <td>3.0</td>\n",
       "      <td>42.0</td>\n",
       "      <td>20.0</td>\n",
       "      <td>13.0</td>\n",
       "    </tr>\n",
       "    <tr>\n",
       "      <th>upper_quartile</th>\n",
       "      <td>54811.0</td>\n",
       "      <td>17.0</td>\n",
       "      <td>161.0</td>\n",
       "      <td>165.0</td>\n",
       "      <td>103.0</td>\n",
       "    </tr>\n",
       "    <tr>\n",
       "      <th>max</th>\n",
       "      <td>9990722.0</td>\n",
       "      <td>1533.0</td>\n",
       "      <td>40410.0</td>\n",
       "      <td>55810.0</td>\n",
       "      <td>2005.0</td>\n",
       "    </tr>\n",
       "  </tbody>\n",
       "</table>\n",
       "</div>"
      ],
      "text/plain": [
       "                    Followers Count  Playlist Count  Track Count  Likes Count  \\\n",
       "missing_percentage              0.0             0.0          0.0          0.0   \n",
       "min                             0.0             0.0          1.0          0.0   \n",
       "lower_quartile                480.5             0.0         12.0          1.0   \n",
       "median                       5242.0             3.0         42.0         20.0   \n",
       "upper_quartile              54811.0            17.0        161.0        165.0   \n",
       "max                       9990722.0          1533.0      40410.0      55810.0   \n",
       "\n",
       "                    Followings Count  \n",
       "missing_percentage               0.0  \n",
       "min                              0.0  \n",
       "lower_quartile                   1.0  \n",
       "median                          13.0  \n",
       "upper_quartile                 103.0  \n",
       "max                           2005.0  "
      ]
     },
     "execution_count": 66,
     "metadata": {},
     "output_type": "execute_result"
    }
   ],
   "source": [
    "user_info_df = calculate_quartile(user_df)\n",
    "user_info_df"
   ]
  },
  {
   "cell_type": "markdown",
   "id": "a539f2fc",
   "metadata": {},
   "source": [
    "### Có giá trị không hợp lệ trong mỗi cột không? "
   ]
  },
  {
   "cell_type": "markdown",
   "id": "665f91a1",
   "metadata": {},
   "source": [
    "Có vẻ như nhìn chung thì dữ liệu thu thập được đều hợp lệ!"
   ]
  },
  {
   "cell_type": "markdown",
   "id": "876c5b6c",
   "metadata": {},
   "source": [
    "## Bộ dữ liệu User "
   ]
  },
  {
   "cell_type": "markdown",
   "id": "f8164530",
   "metadata": {},
   "source": [
    "### Xóa dữ liệu"
   ]
  },
  {
   "cell_type": "markdown",
   "id": "7f7f7844",
   "metadata": {},
   "source": [
    "#### Dữ liệu có bị thiếu không?"
   ]
  },
  {
   "cell_type": "code",
   "execution_count": 67,
   "id": "92b93f62",
   "metadata": {
    "scrolled": true
   },
   "outputs": [
    {
     "name": "stdout",
     "output_type": "stream",
     "text": [
      "<class 'pandas.core.frame.DataFrame'>\n",
      "Int64Index: 3019 entries, 0 to 3018\n",
      "Data columns (total 13 columns):\n",
      " #   Column            Non-Null Count  Dtype \n",
      "---  ------            --------------  ----- \n",
      " 0   User Link         3019 non-null   object\n",
      " 1   Name              3019 non-null   object\n",
      " 2   Created Date      3019 non-null   object\n",
      " 3   Followers Count   3019 non-null   int64 \n",
      " 4   Playlist Count    3019 non-null   int64 \n",
      " 5   Track Count       3019 non-null   int64 \n",
      " 6   Likes Count       3019 non-null   int64 \n",
      " 7   Followings Count  3019 non-null   int64 \n",
      " 8   User ID           3019 non-null   int64 \n",
      " 9   Badges            3019 non-null   object\n",
      " 10  Verified          3019 non-null   bool  \n",
      " 11  City              1967 non-null   object\n",
      " 12  CountryCode       1823 non-null   object\n",
      "dtypes: bool(1), int64(6), object(6)\n",
      "memory usage: 374.1+ KB\n"
     ]
    }
   ],
   "source": [
    "user_df.info()"
   ]
  },
  {
   "cell_type": "markdown",
   "id": "78ac7690",
   "metadata": {},
   "source": [
    "Nhìn vào bộ dữ liệu thì ta thấy dữ liệu có vẻ đầy đủ chỉ riêng phần City và CountryCode bị thiếu mất 1 số giá trị"
   ]
  },
  {
   "cell_type": "markdown",
   "id": "9d9c6b45",
   "metadata": {},
   "source": [
    "#### Mỗi bảng có các kiểu dữ liệu khác nhau? Có kiểu dữ liệu nào chưa phù hợp?\n"
   ]
  },
  {
   "cell_type": "code",
   "execution_count": 68,
   "id": "91835dfc",
   "metadata": {},
   "outputs": [
    {
     "data": {
      "text/plain": [
       "User Link           object\n",
       "Name                object\n",
       "Created Date        object\n",
       "Followers Count      int64\n",
       "Playlist Count       int64\n",
       "Track Count          int64\n",
       "Likes Count          int64\n",
       "Followings Count     int64\n",
       "User ID              int64\n",
       "Badges              object\n",
       "Verified              bool\n",
       "City                object\n",
       "CountryCode         object\n",
       "dtype: object"
      ]
     },
     "execution_count": 68,
     "metadata": {},
     "output_type": "execute_result"
    }
   ],
   "source": [
    "user_df.dtypes"
   ]
  },
  {
   "cell_type": "markdown",
   "id": "959c0d70",
   "metadata": {},
   "source": [
    "Ta biến đổi cột Create Date thành dạng datetime và User ID thành dạng string"
   ]
  },
  {
   "cell_type": "code",
   "execution_count": 69,
   "id": "2b954c11",
   "metadata": {},
   "outputs": [],
   "source": [
    "user_df['Created Date'] = user_df['Created Date'].astype('datetime64[ns]')"
   ]
  },
  {
   "cell_type": "code",
   "execution_count": 70,
   "id": "a040a34d",
   "metadata": {},
   "outputs": [],
   "source": [
    "user_df['User ID'] = user_df['User ID'].astype('string')"
   ]
  },
  {
   "cell_type": "markdown",
   "id": "d9e11bf9",
   "metadata": {},
   "source": [
    "#### Kiểm tra các ngoại lệ"
   ]
  },
  {
   "cell_type": "markdown",
   "id": "2a0d8b59",
   "metadata": {},
   "source": [
    "## Phân tích khám phá"
   ]
  },
  {
   "cell_type": "markdown",
   "id": "b47d1fd6",
   "metadata": {},
   "source": [
    "### Phân tích dữ liệu đơn biến "
   ]
  },
  {
   "cell_type": "markdown",
   "id": "8d1d6264",
   "metadata": {},
   "source": [
    "#### Dữ liệu số"
   ]
  },
  {
   "cell_type": "markdown",
   "id": "581dd835",
   "metadata": {},
   "source": [
    "Ở đây ta sẽ tính thêm Create Date sang thành Existing Time(float64) để phân tích tính tới ngày 1/12"
   ]
  },
  {
   "cell_type": "code",
   "execution_count": 71,
   "id": "65240cce",
   "metadata": {},
   "outputs": [],
   "source": [
    "now = datetime.datetime.now()"
   ]
  },
  {
   "cell_type": "code",
   "execution_count": 72,
   "id": "edef08d4",
   "metadata": {},
   "outputs": [],
   "source": [
    "Existing_Time = (now - user_df['Created Date'])/ np.timedelta64(1,'D')\n",
    "user_df = user_df.assign(Existing_Time=pd.Series(Existing_Time/365).values)"
   ]
  },
  {
   "cell_type": "code",
   "execution_count": 73,
   "id": "f25a2ebe",
   "metadata": {},
   "outputs": [],
   "source": [
    "num_user = user_df.select_dtypes(include=['float64', 'int64'])"
   ]
  },
  {
   "cell_type": "code",
   "execution_count": 74,
   "id": "4cd12023",
   "metadata": {},
   "outputs": [
    {
     "data": {
      "text/html": [
       "<div>\n",
       "<style scoped>\n",
       "    .dataframe tbody tr th:only-of-type {\n",
       "        vertical-align: middle;\n",
       "    }\n",
       "\n",
       "    .dataframe tbody tr th {\n",
       "        vertical-align: top;\n",
       "    }\n",
       "\n",
       "    .dataframe thead th {\n",
       "        text-align: right;\n",
       "    }\n",
       "</style>\n",
       "<table border=\"1\" class=\"dataframe\">\n",
       "  <thead>\n",
       "    <tr style=\"text-align: right;\">\n",
       "      <th></th>\n",
       "      <th>count</th>\n",
       "      <th>mean</th>\n",
       "      <th>std</th>\n",
       "      <th>min</th>\n",
       "      <th>25%</th>\n",
       "      <th>50%</th>\n",
       "      <th>75%</th>\n",
       "      <th>max</th>\n",
       "    </tr>\n",
       "  </thead>\n",
       "  <tbody>\n",
       "    <tr>\n",
       "      <th>Followers Count</th>\n",
       "      <td>3019.0</td>\n",
       "      <td>207882.364028</td>\n",
       "      <td>805296.803258</td>\n",
       "      <td>0.00000</td>\n",
       "      <td>480.500000</td>\n",
       "      <td>5242.000000</td>\n",
       "      <td>54811.000000</td>\n",
       "      <td>9.990722e+06</td>\n",
       "    </tr>\n",
       "    <tr>\n",
       "      <th>Playlist Count</th>\n",
       "      <td>3019.0</td>\n",
       "      <td>23.140775</td>\n",
       "      <td>80.720840</td>\n",
       "      <td>0.00000</td>\n",
       "      <td>0.000000</td>\n",
       "      <td>3.000000</td>\n",
       "      <td>17.000000</td>\n",
       "      <td>1.533000e+03</td>\n",
       "    </tr>\n",
       "    <tr>\n",
       "      <th>Track Count</th>\n",
       "      <td>3019.0</td>\n",
       "      <td>268.753230</td>\n",
       "      <td>1459.305163</td>\n",
       "      <td>1.00000</td>\n",
       "      <td>12.000000</td>\n",
       "      <td>42.000000</td>\n",
       "      <td>161.000000</td>\n",
       "      <td>4.041000e+04</td>\n",
       "    </tr>\n",
       "    <tr>\n",
       "      <th>Likes Count</th>\n",
       "      <td>3019.0</td>\n",
       "      <td>382.383571</td>\n",
       "      <td>2093.310425</td>\n",
       "      <td>0.00000</td>\n",
       "      <td>1.000000</td>\n",
       "      <td>20.000000</td>\n",
       "      <td>165.000000</td>\n",
       "      <td>5.581000e+04</td>\n",
       "    </tr>\n",
       "    <tr>\n",
       "      <th>Followings Count</th>\n",
       "      <td>3019.0</td>\n",
       "      <td>151.538920</td>\n",
       "      <td>348.898100</td>\n",
       "      <td>0.00000</td>\n",
       "      <td>1.000000</td>\n",
       "      <td>13.000000</td>\n",
       "      <td>103.000000</td>\n",
       "      <td>2.005000e+03</td>\n",
       "    </tr>\n",
       "    <tr>\n",
       "      <th>Existing_Time</th>\n",
       "      <td>3019.0</td>\n",
       "      <td>9.005019</td>\n",
       "      <td>2.410595</td>\n",
       "      <td>0.20567</td>\n",
       "      <td>7.521921</td>\n",
       "      <td>9.323457</td>\n",
       "      <td>10.753748</td>\n",
       "      <td>1.423231e+01</td>\n",
       "    </tr>\n",
       "  </tbody>\n",
       "</table>\n",
       "</div>"
      ],
      "text/plain": [
       "                   count           mean            std      min         25%  \\\n",
       "Followers Count   3019.0  207882.364028  805296.803258  0.00000  480.500000   \n",
       "Playlist Count    3019.0      23.140775      80.720840  0.00000    0.000000   \n",
       "Track Count       3019.0     268.753230    1459.305163  1.00000   12.000000   \n",
       "Likes Count       3019.0     382.383571    2093.310425  0.00000    1.000000   \n",
       "Followings Count  3019.0     151.538920     348.898100  0.00000    1.000000   \n",
       "Existing_Time     3019.0       9.005019       2.410595  0.20567    7.521921   \n",
       "\n",
       "                          50%           75%           max  \n",
       "Followers Count   5242.000000  54811.000000  9.990722e+06  \n",
       "Playlist Count       3.000000     17.000000  1.533000e+03  \n",
       "Track Count         42.000000    161.000000  4.041000e+04  \n",
       "Likes Count         20.000000    165.000000  5.581000e+04  \n",
       "Followings Count    13.000000    103.000000  2.005000e+03  \n",
       "Existing_Time        9.323457     10.753748  1.423231e+01  "
      ]
     },
     "execution_count": 74,
     "metadata": {},
     "output_type": "execute_result"
    }
   ],
   "source": [
    "num_user.describe().T"
   ]
  },
  {
   "cell_type": "markdown",
   "id": "177e7df0",
   "metadata": {},
   "source": [
    "**Trực quan hóa**"
   ]
  },
  {
   "cell_type": "code",
   "execution_count": 75,
   "id": "8de5ec63",
   "metadata": {},
   "outputs": [],
   "source": [
    "from matplotlib import cycler\n",
    "colors = cycler('color', ['#EE6666', '#3388BB', '#9988DD', '#EECC55', '#88BB44', '#FFBBBB'])\n",
    "plt.rc('axes', facecolor='#E6E6E6', edgecolor='none', axisbelow=True, grid=True, prop_cycle=colors)\n",
    "plt.rc('grid', color='w', linestyle='solid')\n",
    "plt.rc('xtick', direction='out', color='gray')\n",
    "plt.rc('ytick', direction='out', color='gray')\n",
    "plt.rc('patch', edgecolor='#E6E6E6')\n",
    "plt.rc('lines', linewidth=2)"
   ]
  },
  {
   "cell_type": "code",
   "execution_count": 76,
   "id": "7e0b8706",
   "metadata": {},
   "outputs": [
    {
     "data": {
      "image/png": "[encoded data removed]",
      "text/plain": [
       "<Figure size 1440x2160 with 6 Axes>"
      ]
     },
     "metadata": {
      "needs_background": "dark"
     },
     "output_type": "display_data"
    }
   ],
   "source": [
    "num_user.hist(figsize=(20, 30), bins=150, xlabelsize=10, ylabelsize=10);"
   ]
  },
  {
   "cell_type": "markdown",
   "id": "17be4089",
   "metadata": {},
   "source": [
    "Nhìn vào đồ thị thì ta thấy số lượng Playlist Count trong khoảng dưới 1000 chỉ có một số ít user là có trên 1000 Playlist\n",
    "Các đồ thị có vẻ có hình dạng tương tự nhau."
   ]
  },
  {
   "cell_type": "markdown",
   "id": "238bc614",
   "metadata": {},
   "source": [
    "**Thuộc tính** `Followers Count`"
   ]
  },
  {
   "cell_type": "markdown",
   "id": "4a5a8fff",
   "metadata": {},
   "source": [
    "**Thuộc tính** `Playlist Count`"
   ]
  },
  {
   "cell_type": "markdown",
   "id": "f03b40a3",
   "metadata": {},
   "source": [
    "**Thuộc tính** `Track Count`"
   ]
  },
  {
   "cell_type": "markdown",
   "id": "54f1325d",
   "metadata": {},
   "source": [
    "**Thuộc tính** `Likes Count`"
   ]
  },
  {
   "cell_type": "code",
   "execution_count": 77,
   "id": "d1944938",
   "metadata": {},
   "outputs": [
    {
     "data": {
      "image/png": "[encoded data removed]",
      "text/plain": [
       "<Figure size 432x288 with 1 Axes>"
      ]
     },
     "metadata": {
      "needs_background": "dark"
     },
     "output_type": "display_data"
    }
   ],
   "source": [
    "sns.boxplot(data=num_user, x='Likes Count');"
   ]
  },
  {
   "cell_type": "markdown",
   "id": "2f3ef293",
   "metadata": {},
   "source": [
    "Hầu hết các user đều có số lượng thích trong khoảng từ 10000 trở xuống. Trên khoảng từ 30000 đến 60000 có khoảng 11 user.\n",
    "Khả năng cao đây là tài khoản của các nghệ sĩ nổi tiếng."
   ]
  },
  {
   "cell_type": "markdown",
   "id": "a473c452",
   "metadata": {},
   "source": [
    "**Thuộc tính** `Following Count`"
   ]
  },
  {
   "cell_type": "markdown",
   "id": "24ff4911",
   "metadata": {},
   "source": [
    "**Thuộc tính** `Existing Time`"
   ]
  },
  {
   "cell_type": "code",
   "execution_count": 78,
   "id": "c02881a8",
   "metadata": {},
   "outputs": [
    {
     "data": {
      "image/png": "[encoded data removed]",
      "text/plain": [
       "<Figure size 432x288 with 1 Axes>"
      ]
     },
     "metadata": {
      "needs_background": "dark"
     },
     "output_type": "display_data"
    }
   ],
   "source": [
    "sns.boxplot(data=num_user, x='Existing_Time');"
   ]
  },
  {
   "cell_type": "markdown",
   "id": "c9ec8962",
   "metadata": {},
   "source": [
    "Hầu hết các user đều được lập trên 7 năm còn một số ít ngoại lệ thì có vẻ mới được lập gần đây khoảng từ dưới 3 năm."
   ]
  },
  {
   "cell_type": "markdown",
   "id": "9753da12",
   "metadata": {},
   "source": [
    "#### Phân tích dữ liệu đa biến"
   ]
  },
  {
   "cell_type": "code",
   "execution_count": 79,
   "id": "1b9be121",
   "metadata": {},
   "outputs": [
    {
     "data": {
      "image/png": "[encoded data removed]",
      "text/plain": [
       "<Figure size 720x720 with 2 Axes>"
      ]
     },
     "metadata": {
      "needs_background": "dark"
     },
     "output_type": "display_data"
    }
   ],
   "source": [
    "corr = user_df.corr()\n",
    "plt.figure(figsize=(10, 10))\n",
    "sns.heatmap(corr, vmax=1.0, vmin=-1.0,annot=True, square=True);"
   ]
  },
  {
   "cell_type": "markdown",
   "id": "e7a228c8",
   "metadata": {},
   "source": [
    "## **Phân tích trả lời câu hỏi**\n",
    "Để đơn giản ở đây ta sẽ trả lời câu hỏi luôn ở phần nhận xét"
   ]
  },
  {
   "cell_type": "markdown",
   "id": "b3ad1459",
   "metadata": {},
   "source": [
    "Câu hỏi liên quan đến user:\n",
    "- Số lượt follow có tương ứng với số playlist đã tạo?\n",
    "- Liệu một user có nhiều follow thì sẽ follow nhiều người ?\n",
    "- Số track user tạo có tương ứng với số playlist mà người đó tạo ra?\n",
    "- Một user có số follow cao thì tương đương với số lượt thích cao?\n",
    "- Tên user có gì đặc biệt (nhất là với user có follow cao)\n",
    "- Có phải một user có số playlist và track cao thì số lượt thích cũng sẽ cao?\n",
    "- Một người dùng lâu năm có tương đương với việc lượt yêu thích cao?\n",
    "- User được yêu thích nhất\n",
    "- Đất nước nào có số user nhiều nhất?\n",
    "- Xu hướng người dùng premium như thế nào?\n",
    "- Số lượng tài khoản đã xác thực (verified) có gì đáng chú ý không?"
   ]
  },
  {
   "cell_type": "code",
   "execution_count": 80,
   "id": "c12b80bf",
   "metadata": {},
   "outputs": [
    {
     "data": {
      "image/png": "[encoded data removed]",
      "text/plain": [
       "<Figure size 432x288 with 1 Axes>"
      ]
     },
     "metadata": {
      "needs_background": "dark"
     },
     "output_type": "display_data"
    }
   ],
   "source": [
    "#Số lượt follow có tương ứng với số playlist đã tạo?\n",
    "plt.scatter(y=user_df['Followers Count'], x=user_df['Playlist Count']);\n",
    "plt.ylabel('Followers Count');\n",
    "plt.xlabel('Playlist Count');"
   ]
  },
  {
   "cell_type": "markdown",
   "id": "d3cf742c",
   "metadata": {},
   "source": [
    "**Nhận xét:**\n",
    "Có vẻ như hai thuộc tính Followers và Playlist không liên quan đến nhau. Chỉ riêng số ít là có nhiều Follower tương ứng với số Playlist cũng nhiều. Còn lại hầu hết thì số Follower nhiều còn Playlist lại ít thậm chí số Follower nhiều mà chẳng có Playlist nào. (Có thể đây là nghệ sĩ nổi tiếng nào đó?)"
   ]
  },
  {
   "cell_type": "code",
   "execution_count": 81,
   "id": "55e547f1",
   "metadata": {},
   "outputs": [
    {
     "data": {
      "image/png": "[encoded data removed]",
      "text/plain": [
       "<Figure size 432x288 with 1 Axes>"
      ]
     },
     "metadata": {
      "needs_background": "dark"
     },
     "output_type": "display_data"
    }
   ],
   "source": [
    "#Liệu một user có nhiều follow thì sẽ follow nhiều người ?\n",
    "plt.scatter(y=user_df['Followers Count'], x=user_df['Followings Count']);\n",
    "plt.ylabel('Followers Count');\n",
    "plt.xlabel('Followings Count');"
   ]
  },
  {
   "cell_type": "markdown",
   "id": "02bb4d79",
   "metadata": {},
   "source": [
    "**Nhận xét**: Nhìn vào biểu đồ cho thấy câu trả lời ở đây là số Follower và Following có một chút gì đó liên quan. Mặc dù là đồ thị lệch về phía Followers hoặc Followings nhưng đồ thị cũng tập trung ở đoạn giữa rất nhiều."
   ]
  },
  {
   "cell_type": "code",
   "execution_count": 82,
   "id": "951076d7",
   "metadata": {},
   "outputs": [
    {
     "data": {
      "image/png": "[encoded data removed]",
      "text/plain": [
       "<Figure size 432x288 with 1 Axes>"
      ]
     },
     "metadata": {
      "needs_background": "dark"
     },
     "output_type": "display_data"
    }
   ],
   "source": [
    "#Số track user tạo có tương ứng với số playlist mà người đó tạo ra?\n",
    "plt.scatter(y=user_df['Track Count'], x=user_df['Playlist Count']);\n",
    "plt.ylabel('Track Count');\n",
    "plt.xlabel('Playlist Count');"
   ]
  },
  {
   "cell_type": "markdown",
   "id": "ebfd27af",
   "metadata": {},
   "source": [
    "**Nhận xét:** Dữ liệu ở đây rất tương đồng với nhau với số trường hợp không tương đồng không đáng kể. Có vẻ như câu trả lời ở đây là số track càng nhiều thì số playlist càng nhiều là hợp lí vì mọi người có xu hướng trình làng các sản phẩm của mình."
   ]
  },
  {
   "cell_type": "code",
   "execution_count": 83,
   "id": "5cd5c48f",
   "metadata": {},
   "outputs": [
    {
     "data": {
      "image/png": "[encoded data removed]",
      "text/plain": [
       "<Figure size 432x288 with 1 Axes>"
      ]
     },
     "metadata": {
      "needs_background": "dark"
     },
     "output_type": "display_data"
    }
   ],
   "source": [
    "# Một user có số follow cao thì tương đương với số lượt thích cao?\n",
    "plt.scatter(y=user_df['Followers Count'], x=user_df['Likes Count']);\n",
    "plt.ylabel('Followers Count');\n",
    "plt.xlabel('Likes Count');"
   ]
  },
  {
   "cell_type": "markdown",
   "id": "f4df8573",
   "metadata": {},
   "source": [
    "**Nhận xét:** Theo như đồ thị thì có vẻ như số lượt like chẳng liên quan gì dến số lượt thích và có vẻ hơi lệch về số follower lí do có lẽ là do người nổi tiếng mà chẳng có bài nào hay chăng?"
   ]
  },
  {
   "cell_type": "code",
   "execution_count": 84,
   "id": "55f53532",
   "metadata": {},
   "outputs": [
    {
     "name": "stdout",
     "output_type": "stream",
     "text": [
      "['Calvin Harris' 'Justin Timberlake' \"Fool's Gold Records\" 'B.o.B'\n",
      " 'Bad Boy Entertainment' 'Shady Records' 'YMCMB-Official'\n",
      " 'Def Jam Recordings' 'Big Sean' 'Future']\n"
     ]
    }
   ],
   "source": [
    "# Tên user có gì đặc biệt (nhất là với user có follow cao)\n",
    "# Ở đây ta lựa chọn 10 user có lượt follow cao nhất để dễ theo dõi\n",
    "x = user_df['Followers Count'].argsort()\n",
    "print(user_df['Name'][x[(len(x) - 10):].values].values)"
   ]
  },
  {
   "cell_type": "markdown",
   "id": "bd46836d",
   "metadata": {},
   "source": [
    "**Nhận xét:** Các user có followers cao thường là ca sĩ nổi tiếng hoặc hãng thu âm đúng như dự đoán ban đầu."
   ]
  },
  {
   "cell_type": "code",
   "execution_count": 85,
   "id": "cc1de45f",
   "metadata": {},
   "outputs": [
    {
     "data": {
      "image/png": "[encoded data removed]",
      "text/plain": [
       "<Figure size 720x720 with 1 Axes>"
      ]
     },
     "metadata": {
      "needs_background": "dark"
     },
     "output_type": "display_data"
    }
   ],
   "source": [
    "# Có phải một user có số playlist và track cao thì số lượt thích cũng sẽ cao?\n",
    "plt.figure(figsize=(10, 10))\n",
    "ax = plt.axes(projection='3d') \n",
    "# Data for a three-dimensional line \n",
    "zline = user_df['Likes Count']\n",
    "xline = user_df['Playlist Count']\n",
    "yline = user_df['Track Count']\n",
    "ax.plot3D(xline, yline, zline, 'gray') \n",
    "# Data for three-dimensional scattered points \n",
    "ax.scatter3D(xline, zline, yline, c=zline, cmap='Reds');\n",
    "plt.ylabel('Track Count');\n",
    "plt.xlabel('Playlist Count');"
   ]
  },
  {
   "cell_type": "markdown",
   "id": "47c3bd00",
   "metadata": {},
   "source": [
    "**Nhận xét** dữ liệu có vẻ khá tương đồng mặc dù có một số ngoại lệ là một số playlist có số lượt thích cao ngất trời. Câu trả lời cho câu hỏi này là số lượng tốt hơn chất lượng. Khi làm nhiều và có tâm thì thành quả sẽ đến :v"
   ]
  },
  {
   "cell_type": "code",
   "execution_count": 86,
   "id": "e020c25a",
   "metadata": {
    "scrolled": true
   },
   "outputs": [
    {
     "data": {
      "image/png": "[encoded data removed]",
      "text/plain": [
       "<Figure size 432x288 with 1 Axes>"
      ]
     },
     "metadata": {
      "needs_background": "dark"
     },
     "output_type": "display_data"
    }
   ],
   "source": [
    "# Một người dùng lâu năm có tương đương với việc lượt yêu thích cao?\n",
    "plt.scatter(y=user_df['Likes Count'], x=user_df['Existing_Time']);\n",
    "plt.ylabel('Likes Count');\n",
    "plt.xlabel('Existing Count');"
   ]
  },
  {
   "cell_type": "markdown",
   "id": "486e52cf",
   "metadata": {},
   "source": [
    "**Nhận xét:** Có vẻ như 2 thuộc tính này không liên quan đến nhau lắm. Mặc dù vậy nhìn vào biểu đồ ta cũng biết được các user có lượt thích cao là từ 4 năm đến 12 năm."
   ]
  },
  {
   "cell_type": "code",
   "execution_count": 87,
   "id": "5fe0ce53",
   "metadata": {},
   "outputs": [
    {
     "data": {
      "text/plain": [
       "'Elektrik Dreams Music'"
      ]
     },
     "execution_count": 87,
     "metadata": {},
     "output_type": "execute_result"
    }
   ],
   "source": [
    "# User được yêu thích nhất\n",
    "index = user_df['Likes Count'].argmax()\n",
    "user_df['Name'][index]"
   ]
  },
  {
   "cell_type": "markdown",
   "id": "28b5e68d",
   "metadata": {},
   "source": [
    "**Nhận xét:** Ta có thể thấy user có nhiều lượt yêu thích nhất click vào để xem profile [HIP HOP REPOST NETWORK](https://soundcloud.com/hip_hop_repost)"
   ]
  },
  {
   "cell_type": "code",
   "execution_count": 88,
   "id": "2afa4360",
   "metadata": {},
   "outputs": [
    {
     "data": {
      "image/png": "[encoded data removed]",
      "text/plain": [
       "<Figure size 1800x1800 with 1 Axes>"
      ]
     },
     "metadata": {
      "needs_background": "dark"
     },
     "output_type": "display_data"
    }
   ],
   "source": [
    "# Đất nước nào có số user nhiều nhất?\n",
    "plt.figure(figsize=(25, 25))\n",
    "sns.countplot(y=\"CountryCode\", data=user_df)\n",
    "plt.title('Danh sách các đất nước phân loại theo số lượng user');"
   ]
  },
  {
   "cell_type": "markdown",
   "id": "447cc3ee",
   "metadata": {},
   "source": [
    "**Nhận xét:** Ta có thể thấy đất nước có số lượng user đông nhất đó chính là nước Mỹ. Với số lượng cực kì áp đảo các nghệ sĩ nổi tiếng hay công ty âm nhạc mà ta dự đoán ở phần follow thì cũng nằm ở Mỹ."
   ]
  },
  {
   "cell_type": "code",
   "execution_count": 89,
   "id": "440fd498",
   "metadata": {},
   "outputs": [
    {
     "data": {
      "image/png": "[encoded data removed]",
      "text/plain": [
       "<Figure size 432x288 with 1 Axes>"
      ]
     },
     "metadata": {
      "needs_background": "dark"
     },
     "output_type": "display_data"
    }
   ],
   "source": [
    "# Xu hướng người dùng premium như thế nào?\n",
    "sns.countplot(x=\"Badges\", data=user_df)\n",
    "plt.title('Phân bố user theo loại tài khoản đăng ký');"
   ]
  },
  {
   "cell_type": "markdown",
   "id": "b7d3affe",
   "metadata": {},
   "source": [
    "**Nhận xét:** Dựa vào biểu đồ thì ta suy ra được mọi người xài chùa rất đông. Mặc dù vậy thì tài khoản pro_unlimited cũng khá đông"
   ]
  },
  {
   "cell_type": "code",
   "execution_count": 90,
   "id": "23b0f78e",
   "metadata": {},
   "outputs": [
    {
     "data": {
      "image/png": "[encoded data removed]",
      "text/plain": [
       "<Figure size 432x288 with 1 Axes>"
      ]
     },
     "metadata": {
      "needs_background": "dark"
     },
     "output_type": "display_data"
    }
   ],
   "source": [
    "#  Số lượng tài khoản đã xác thực (verified) có gì đáng chú ý không?\n",
    "sns.countplot(x=\"Verified\", data=user_df)\n",
    "plt.title('Phân bố user theo loại tài khoản đã xác thực');"
   ]
  },
  {
   "cell_type": "markdown",
   "id": "e176c5e3",
   "metadata": {},
   "source": [
    "**Nhận xét:** Dựa vào biểu đồ thì có vẻ là hầu hết mọi người đều chưa xác thực. "
   ]
  }
 ],
 "metadata": {
  "kernelspec": {
   "display_name": "Python 3 (ipykernel)",
   "language": "python",
   "name": "python3"
  },
  "language_info": {
   "codemirror_mode": {
    "name": "ipython",
    "version": 3
   },
   "file_extension": ".py",
   "mimetype": "text/x-python",
   "name": "python",
   "nbconvert_exporter": "python",
   "pygments_lexer": "ipython3",
   "version": "3.8.8"
  },
  "nbTranslate": {
   "displayLangs": [
    "*"
   ],
   "hotkey": "alt-t",
   "langInMainMenu": true,
   "sourceLang": "en",
   "targetLang": "fr",
   "useGoogleTranslate": true
  },
  "toc": {
   "base_numbering": 1,
   "nav_menu": {},
   "number_sections": true,
   "sideBar": true,
   "skip_h1_title": false,
   "title_cell": "Table of Contents",
   "title_sidebar": "Contents",
   "toc_cell": false,
   "toc_position": {
    "height": "calc(100% - 180px)",
    "left": "10px",
    "top": "150px",
    "width": "305.188px"
   },
   "toc_section_display": true,
   "toc_window_display": true
  }
 },
 "nbformat": 4,
 "nbformat_minor": 5
}
